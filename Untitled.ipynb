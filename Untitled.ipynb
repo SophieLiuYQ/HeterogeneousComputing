{
 "cells": [
  {
   "cell_type": "code",
   "execution_count": 143,
   "id": "8dc3ee85",
   "metadata": {},
   "outputs": [
    {
     "name": "stdout",
     "output_type": "stream",
     "text": [
      "2021-12-06 21:38:44.159725\n"
     ]
    }
   ],
   "source": [
    "import logging\n",
    "from bs4 import BeautifulSoup as BS\n",
    "import requests\n",
    "#import datetime\n",
    "\n",
    "logging.debug('Starting to pull articles for: ')\n",
    "file = open('NVDA' + '.txt', 'w')\n",
    "\n",
    "# Make the request to google news for the ticker and get its raw html   //this needs to be updated to grab apple finance/yahoo news, google is not correct\n",
    "\n",
    "r1 = requests.get('https://www.google.com/search?q=' + 'NVDA' + '&rlz=1C5CHFA_enUS906US906&source=lnms&tbm=nws&sa=X&ved=2ahUKEwjtx66qpdD0AhUrk4kEHTxNBHwQ_AUoAnoECAIQBA&biw=1440&bih=701&dpr=2', timeout=2)\n",
    "r2 = requests.get('https://www.google.com/search?q=' + 'NVDA' + '&rlz=1C5CHFA_enUS906US906&tbm=nws&ei=TriuYfmAPeKYptQP1ZicuAY&start=10&sa=N&ved=2ahUKEwj5382exND0AhVijIkEHVUMB2cQ8tMDegQIARA3&biw=1440&bih=701&dpr=2', timeout = 2)\n",
    "data1 = BS(r1.text, 'html.parser')\n",
    "data2 = BS(r2.text, 'html.parser')\n",
    "\n",
    "##print(data)\n",
    "\n",
    "def getHeading(x):\n",
    "    spans = x.parent.parent.parent.find_all('span')\n",
    "    spans = [ x.getText() for x in spans ]\n",
    "    spans = [ x for x in spans if \"ago\" in x ]\n",
    "    assert(len(spans) == 1)\n",
    "    return (x.getText(), spans[0])\n",
    "\n",
    "data_processed = [ getHeading(x) for x in data1.find_all('h3')] + [ getHeading(x) for x in data2.find_all('h3') ]\n",
    "\n",
    "for element in data_processed:\n",
    "    file.write(' '.join(str(s) for s in element) + '\\n')\n",
    "file.close()\n",
    "\n",
    "#print(datetime.datetime.now())\n"
   ]
  },
  {
   "cell_type": "code",
   "execution_count": null,
   "id": "3b61528a",
   "metadata": {},
   "outputs": [],
   "source": []
  },
  {
   "cell_type": "code",
   "execution_count": 148,
   "id": "b5b35be9",
   "metadata": {},
   "outputs": [
    {
     "ename": "AttributeError",
     "evalue": "'NoneType' object has no attribute 'find_all'",
     "output_type": "error",
     "traceback": [
      "\u001b[0;31m---------------------------------------------------------------------------\u001b[0m",
      "\u001b[0;31mAttributeError\u001b[0m                            Traceback (most recent call last)",
      "\u001b[0;32m/var/folders/g7/zjn0nkr97kx5fpd4xck89y4h0000gn/T/ipykernel_44202/1285687428.py\u001b[0m in \u001b[0;36m<module>\u001b[0;34m\u001b[0m\n\u001b[1;32m      8\u001b[0m \u001b[0;34m\u001b[0m\u001b[0m\n\u001b[1;32m      9\u001b[0m \u001b[0mopen_html\u001b[0m \u001b[0;34m=\u001b[0m \u001b[0mdata\u001b[0m\u001b[0;34m.\u001b[0m\u001b[0mfind\u001b[0m\u001b[0;34m(\u001b[0m\u001b[0;34m'table'\u001b[0m\u001b[0;34m,\u001b[0m \u001b[0mattrs\u001b[0m\u001b[0;34m=\u001b[0m\u001b[0;34m{\u001b[0m\u001b[0;34m'class'\u001b[0m \u001b[0;34m:\u001b[0m \u001b[0;34m'snap-data'\u001b[0m\u001b[0;34m}\u001b[0m\u001b[0;34m)\u001b[0m\u001b[0;34m\u001b[0m\u001b[0;34m\u001b[0m\u001b[0m\n\u001b[0;32m---> 10\u001b[0;31m \u001b[0mopen_raw\u001b[0m \u001b[0;34m=\u001b[0m \u001b[0mopen_html\u001b[0m\u001b[0;34m.\u001b[0m\u001b[0mfind_all\u001b[0m\u001b[0;34m(\u001b[0m\u001b[0;34m'tr'\u001b[0m\u001b[0;34m)\u001b[0m\u001b[0;34m\u001b[0m\u001b[0;34m\u001b[0m\u001b[0m\n\u001b[0m\u001b[1;32m     11\u001b[0m \u001b[0mopen_raw2\u001b[0m \u001b[0;34m=\u001b[0m \u001b[0mopen_raw\u001b[0m\u001b[0;34m[\u001b[0m\u001b[0;36m2\u001b[0m\u001b[0;34m]\u001b[0m\u001b[0;34m.\u001b[0m\u001b[0mfind\u001b[0m\u001b[0;34m(\u001b[0m\u001b[0;34m'td'\u001b[0m\u001b[0;34m,\u001b[0m \u001b[0mattrs\u001b[0m\u001b[0;34m=\u001b[0m\u001b[0;34m{\u001b[0m\u001b[0;34m'class'\u001b[0m \u001b[0;34m:\u001b[0m \u001b[0;34m'val'\u001b[0m\u001b[0;34m}\u001b[0m\u001b[0;34m)\u001b[0m\u001b[0;34m\u001b[0m\u001b[0;34m\u001b[0m\u001b[0m\n\u001b[1;32m     12\u001b[0m \u001b[0;32mtry\u001b[0m\u001b[0;34m:\u001b[0m\u001b[0;34m\u001b[0m\u001b[0;34m\u001b[0m\u001b[0m\n",
      "\u001b[0;31mAttributeError\u001b[0m: 'NoneType' object has no attribute 'find_all'"
     ]
    }
   ],
   "source": [
    "import logging\n",
    "from bs4 import BeautifulSoup as BS\n",
    "import requests\n",
    "\n",
    "r = requests.get('https://www.google.com/finance/quote/'+ NVDA + ':NASDAQ?window=5D')\n",
    "\n",
    "data = BS(r.text, 'html.parser')\n",
    "\n",
    "open_html = data.find('table', attrs={'class' : 'snap-data'})\n",
    "open_raw = open_html.find_all('tr')\n",
    "open_raw2 = open_raw[2].find('td', attrs={'class' : 'val'})\n",
    "try:\n",
    "    open_p = float(open_raw2.text[:-1].replace(',',''))\n",
    "except:\n",
    "    logging.warning('- Could not pull price for: ' + ticker)\n",
    "    return -1, 2\n",
    "\n",
    "close_raw = data.find('span', attrs={'id' : re.compile(r'ref_*')})\n",
    "try:\n",
    "    close_p = float(close_raw.text.replace(',',''))\n",
    "except:\n",
    "    logging.warning('- Could not pull price for: ' + ticker)\n",
    "    return -1, 3\n"
   ]
  },
  {
   "cell_type": "code",
   "execution_count": null,
   "id": "f4aa5c88",
   "metadata": {},
   "outputs": [],
   "source": []
  }
 ],
 "metadata": {
  "kernelspec": {
   "display_name": "Python 3 (ipykernel)",
   "language": "python",
   "name": "python3"
  },
  "language_info": {
   "codemirror_mode": {
    "name": "ipython",
    "version": 3
   },
   "file_extension": ".py",
   "mimetype": "text/x-python",
   "name": "python",
   "nbconvert_exporter": "python",
   "pygments_lexer": "ipython3",
   "version": "3.9.1"
  }
 },
 "nbformat": 4,
 "nbformat_minor": 5
}
